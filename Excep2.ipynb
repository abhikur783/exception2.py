{
 "cells": [
  {
   "cell_type": "code",
   "execution_count": null,
   "id": "8c81f1fd-13af-41f9-9401-10aae7448693",
   "metadata": {},
   "outputs": [],
   "source": [
    "Q1. Explain why we have to use the Exception class while creating a Custom Exception.\n",
    "Note: Here Exception class refers to the base class for all the exceptions."
   ]
  },
  {
   "cell_type": "code",
   "execution_count": null,
   "id": "92741dcc-b94a-45a5-ac4a-7a6148413057",
   "metadata": {},
   "outputs": [],
   "source": [
    "In Python, we use the Exception class as the base class for all the exceptions because it provides a standard interface and behavior for handling \n",
    "errors and exceptions. \n",
    "When we create a custom exception, we want it to inherit from the Exception class so that it can leverage the functionality that the Exception \n",
    "class provides.\n",
    "\n",
    "Here are some reasons why we use the Exception class while creating a custom exception:\n",
    "\n",
    "Consistency and predictability: By inheriting from the Exception class, our custom exception will behave consistently and predictably with other\n",
    "built-in exceptions. This makes it easier for developers to understand and handle the exceptions that are thrown by our code.\n",
    "\n",
    "Standard error handling: The Exception class provides a standard interface for error handling. By inheriting from this class, our custom exception \n",
    "can be caught and handled using the same try-except block that is used for catching other built-in exceptions.\n",
    "\n",
    "Better code organization: By creating a custom exception that inherits from the Exception class, we can group related exceptions together in a\n",
    "logical hierarchy. This makes it easier for developers to understand the different types of exceptions that can be raised by our code.\n",
    "\n",
    "Code reuse: By inheriting from the Exception class, our custom exception can reuse the methods and attributes that are provided by the Exception class.\n",
    "For example, we can use the str method to provide a custom error message for our exception.\n",
    "\n",
    "Overall, using the Exception class as the base class for our custom exceptions is a best practice that helps to ensure consistency, predictability,\n",
    "and better error handling in our code."
   ]
  },
  {
   "cell_type": "code",
   "execution_count": null,
   "id": "95607c50-6eb0-4170-8daa-9426b1fac4aa",
   "metadata": {},
   "outputs": [],
   "source": [
    "Q2. Write a python program to print Python Exception Hierarchy."
   ]
  },
  {
   "cell_type": "code",
   "execution_count": 1,
   "id": "8bd95281-145e-47fb-9fd2-21212f4f9252",
   "metadata": {},
   "outputs": [
    {
     "name": "stdout",
     "output_type": "stream",
     "text": [
      "Python Exception Hierarchy:\n",
      "\n",
      "1. TypeError\n",
      "2. StopAsyncIteration\n",
      "3. StopIteration\n",
      "4. ImportError\n",
      "5. OSError\n",
      "6. EOFError\n",
      "7. RuntimeError\n",
      "8. NameError\n",
      "9. AttributeError\n",
      "10. SyntaxError\n",
      "11. LookupError\n",
      "12. ValueError\n",
      "13. AssertionError\n",
      "14. ArithmeticError\n",
      "15. SystemError\n",
      "16. ReferenceError\n",
      "17. MemoryError\n",
      "18. BufferError\n",
      "19. Warning\n",
      "20. _OptionError\n",
      "21. _Error\n",
      "22. error\n",
      "23. Verbose\n",
      "24. Error\n",
      "25. SubprocessError\n",
      "26. TokenError\n",
      "27. StopTokenizing\n",
      "28. ClassFoundException\n",
      "29. EndOfBlock\n",
      "30. TraitError\n",
      "31. Error\n",
      "32. Error\n",
      "33. _GiveupOnSendfile\n",
      "34. error\n",
      "35. Incomplete\n",
      "36. TimeoutError\n",
      "37. InvalidStateError\n",
      "38. LimitOverrunError\n",
      "39. QueueEmpty\n",
      "40. QueueFull\n",
      "41. Empty\n",
      "42. Full\n",
      "43. ArgumentError\n",
      "44. ZMQBaseError\n",
      "45. PickleError\n",
      "46. _Stop\n",
      "47. ArgumentError\n",
      "48. ArgumentTypeError\n",
      "49. ConfigError\n",
      "50. ConfigurableError\n",
      "51. ApplicationError\n",
      "52. error\n",
      "53. TimeoutError\n",
      "54. error\n",
      "55. ReturnValueIgnoredError\n",
      "56. KeyReuseError\n",
      "57. UnknownKeyError\n",
      "58. LeakedCallbackError\n",
      "59. BadYieldError\n",
      "60. ReturnValueIgnoredError\n",
      "61. Return\n",
      "62. InvalidPortNumber\n",
      "63. error\n",
      "64. LZMAError\n",
      "65. RegistryError\n",
      "66. _GiveupOnFastCopy\n",
      "67. Error\n",
      "68. NoIPAddresses\n",
      "69. BadZipFile\n",
      "70. LargeZipFile\n",
      "71. BadEntryPoint\n",
      "72. NoSuchEntryPoint\n",
      "73. DuplicateKernelError\n",
      "74. ErrorDuringImport\n",
      "75. NotOneValueFound\n",
      "76. CannotEval\n",
      "77. OptionError\n",
      "78. BdbQuit\n",
      "79. Restart\n",
      "80. ExceptionPexpect\n",
      "81. PtyProcessError\n",
      "82. FindCmdError\n",
      "83. HomeDirError\n",
      "84. ProfileDirError\n",
      "85. IPythonCoreError\n",
      "86. InputRejected\n",
      "87. GetoptError\n",
      "88. ErrorToken\n",
      "89. PrefilterError\n",
      "90. AliasError\n",
      "91. Error\n",
      "92. Warning\n",
      "93. SpaceInInput\n",
      "94. DOMException\n",
      "95. ValidationError\n",
      "96. EditReadOnlyBuffer\n",
      "97. _Retry\n",
      "98. InvalidLayoutError\n",
      "99. HeightIsUnknownError\n",
      "100. ParserSyntaxError\n",
      "101. InternalParseError\n",
      "102. _PositionUpdatingFinished\n",
      "103. SimpleGetItemNotFound\n",
      "104. UncaughtAttributeError\n",
      "105. HasNoContext\n",
      "106. ParamIssue\n",
      "107. _JediError\n",
      "108. OnErrorLeaf\n",
      "109. InvalidPythonEnvironment\n",
      "110. MessageError\n",
      "111. Error\n",
      "112. HTTPException\n",
      "113. InteractivelyDefined\n",
      "114. KillEmbedded\n",
      "115. Error\n",
      "116. _Ipv6UnsupportedError\n",
      "117. QueueEmpty\n",
      "118. QueueFull\n",
      "119. DebuggerInitializationError\n",
      "120. ExpatError\n",
      "121. Error\n",
      "122. ParseBaseException\n",
      "123. RecursiveGrammarException\n",
      "124. ResolutionError\n",
      "125. _Error\n",
      "126. UnableToResolveVariableException\n",
      "127. InvalidTypeInArgsException\n"
     ]
    }
   ],
   "source": [
    "# Get the Exception hierarchy using the built-in __subclasses__() method\n",
    "exception_classes = Exception.__subclasses__()\n",
    "\n",
    "# Initialize an empty list to hold the exception names\n",
    "exception_names = []\n",
    "\n",
    "# Loop through each exception class and get the class name\n",
    "for exc_class in exception_classes:\n",
    "    exception_names.append(exc_class.__name__)\n",
    "\n",
    "# Print the exception hierarchy\n",
    "print(\"Python Exception Hierarchy:\\n\")\n",
    "for i, exc_name in enumerate(exception_names):\n",
    "    print(f\"{i+1}. {exc_name}\")\n"
   ]
  },
  {
   "cell_type": "code",
   "execution_count": null,
   "id": "578a91b2-33a9-4327-9906-3114881153bb",
   "metadata": {},
   "outputs": [],
   "source": [
    "Q3. What errors are defined in the ArithmeticError class? Explain any two with an example."
   ]
  },
  {
   "cell_type": "code",
   "execution_count": null,
   "id": "5da3d743-7749-4773-b50e-5955819a4dde",
   "metadata": {},
   "outputs": [],
   "source": [
    "The ArithmeticError class is a built-in Python exception class that represents errors that occur during arithmetic operations. It is a subclass of the Exception class and serves as a base class for more specific arithmetic-related exceptions.\n",
    "\n",
    "Here are two examples of errors that are defined in the ArithmeticError class:\n",
    "\n",
    "ZeroDivisionError: This error is raised when a number is divided by zero.\n",
    "Example:"
   ]
  },
  {
   "cell_type": "code",
   "execution_count": 3,
   "id": "4ae9be85-22b7-429b-a134-95e968f512fe",
   "metadata": {},
   "outputs": [
    {
     "name": "stdout",
     "output_type": "stream",
     "text": [
      "Error: Division by zero\n"
     ]
    }
   ],
   "source": [
    "a = 10\n",
    "b = 0\n",
    "\n",
    "try:\n",
    "    c = a/b\n",
    "except ZeroDivisionError:\n",
    "    print(\"Error: Division by zero\")\n"
   ]
  },
  {
   "cell_type": "code",
   "execution_count": 13,
   "id": "6398d018-88bb-4a8e-89a7-b5a777342c3b",
   "metadata": {},
   "outputs": [
    {
     "name": "stdout",
     "output_type": "stream",
     "text": [
      "(34, 'Numerical result out of range'), <class 'OverflowError'>\n"
     ]
    }
   ],
   "source": [
    "\n",
    "j = 5.0\n",
    "\n",
    "try:\n",
    "    for i in range(1, 1000):\n",
    "        j = j**i\n",
    "except ArithmeticError as e:\n",
    "    print(f\"{e}, {e.__class__}\")"
   ]
  },
  {
   "cell_type": "code",
   "execution_count": null,
   "id": "8585197b-1f70-493e-bd86-11f8a387a8eb",
   "metadata": {},
   "outputs": [],
   "source": [
    "As you can see, by using the ArithmeticError exception class, you can handle both ZeroDivisionError and OverflowError exceptions.\n",
    "\n",
    "Use this exception class, anytime you are unsure of any arithmetic operations and the errors that it might result in."
   ]
  },
  {
   "cell_type": "code",
   "execution_count": null,
   "id": "67ea6da3-0b86-48b4-8202-ebd98233f480",
   "metadata": {},
   "outputs": [],
   "source": [
    "Q4. Why LookupError class is used? Explain with an example KeyError and IndexError."
   ]
  },
  {
   "cell_type": "code",
   "execution_count": null,
   "id": "52a1a4ab-b035-471f-8b20-f2bae85fdcce",
   "metadata": {},
   "outputs": [],
   "source": [
    "The LookupError class is a built-in Python exception class that serves as the base class for several other exception classes. \n",
    "It is raised when a lookup operation fails to find a value.\n",
    "\n",
    "Here are two examples of exceptions that are derived from LookupError:\n",
    "\n",
    "KeyError: This error is raised when a dictionary key is not found.\n",
    "Example:"
   ]
  },
  {
   "cell_type": "code",
   "execution_count": 7,
   "id": "5f78e12b-8a1a-4ff9-96aa-1611f891268c",
   "metadata": {},
   "outputs": [
    {
     "name": "stdout",
     "output_type": "stream",
     "text": [
      "Error: Key not found\n"
     ]
    }
   ],
   "source": [
    "my_dict = {\"apple\": 1, \"banana\": 2, \"orange\": 3}\n",
    "\n",
    "try:\n",
    "    value = my_dict[\"grape\"]\n",
    "except KeyError:\n",
    "    print(\"Error: Key not found\")\n"
   ]
  },
  {
   "cell_type": "code",
   "execution_count": null,
   "id": "86489039-9b2c-48b7-ba80-e83e812b8eef",
   "metadata": {},
   "outputs": [],
   "source": [
    "IndexError: This error is raised when an index is out of range in a sequence (such as a list or a string)."
   ]
  },
  {
   "cell_type": "code",
   "execution_count": 8,
   "id": "ef47c1de-1f93-4a49-a02b-52806c5dcc2c",
   "metadata": {},
   "outputs": [
    {
     "name": "stdout",
     "output_type": "stream",
     "text": [
      "Error: Index out of range\n"
     ]
    }
   ],
   "source": [
    "my_list = [1, 2, 3]\n",
    "\n",
    "try:\n",
    "    value = my_list[3]\n",
    "except IndexError:\n",
    "    print(\"Error: Index out of range\")\n"
   ]
  },
  {
   "cell_type": "code",
   "execution_count": null,
   "id": "8e13a299-0de9-4f67-b650-e9d78bf0303a",
   "metadata": {},
   "outputs": [],
   "source": [
    "Note that these are just two examples of exceptions that are derived from LookupError. Other exceptions in this class include AttributeError,\n",
    "NameError, and UnboundLocalError, among others.\n",
    "\n",
    "The LookupError class is useful because it allows you to handle several types of lookup-related errors in a single except block. For example, \n",
    "if you are working with both dictionaries and lists in your code, you can catch both KeyError and IndexError exceptions with a single except \n",
    "LookupError block:"
   ]
  },
  {
   "cell_type": "code",
   "execution_count": 9,
   "id": "3fe906cf-49f2-429a-9e2e-9970fde8ed7b",
   "metadata": {},
   "outputs": [
    {
     "name": "stdout",
     "output_type": "stream",
     "text": [
      "Error: Lookup failed\n"
     ]
    }
   ],
   "source": [
    "my_dict = {\"apple\": 1, \"banana\": 2, \"orange\": 3}\n",
    "my_list = [1, 2, 3]\n",
    "\n",
    "try:\n",
    "    value = my_dict[\"grape\"]\n",
    "    value = my_list[3]\n",
    "except LookupError:\n",
    "    print(\"Error: Lookup failed\")\n"
   ]
  },
  {
   "cell_type": "code",
   "execution_count": null,
   "id": "97d2d894-2b2c-430c-b9e6-e481064af44a",
   "metadata": {},
   "outputs": [],
   "source": [
    "Q5. Explain ImportError. What is ModuleNotFoundError?"
   ]
  },
  {
   "cell_type": "code",
   "execution_count": null,
   "id": "1bf4f17b-790d-4e43-9968-222ddd8d8f42",
   "metadata": {},
   "outputs": [],
   "source": [
    "ImportError is a built-in Python exception that is raised when there is a problem importing a module. It can be caused by a variety of reasons, \n",
    "such as a missing module, a circular import, or an invalid module.\n",
    "\n",
    "ModuleNotFoundError is a more specific type of ImportError that is raised when the module you are trying to import does not exist.\n",
    "It was introduced in Python 3.6 to provide a more informative error message when a module cannot be found.\n",
    "\n",
    "Here is an example of ImportError:"
   ]
  },
  {
   "cell_type": "code",
   "execution_count": 11,
   "id": "899b9c21-af97-4c32-b167-b4af1dd4f435",
   "metadata": {},
   "outputs": [
    {
     "name": "stdout",
     "output_type": "stream",
     "text": [
      "Error: Unable to import module\n"
     ]
    }
   ],
   "source": [
    "try:\n",
    "    import non_existing_module\n",
    "except ImportError:\n",
    "    print(\"Error: Unable to import module\")\n"
   ]
  },
  {
   "cell_type": "code",
   "execution_count": null,
   "id": "ec520120-f20d-42a2-a03a-055e076d4718",
   "metadata": {},
   "outputs": [],
   "source": [
    "In this example, we try to import a module that does not exist, which raises an ImportError. We catch the exception with a try/except block and \n",
    "print an error message.\n",
    "\n",
    "Here is an example of ModuleNotFoundError:"
   ]
  },
  {
   "cell_type": "code",
   "execution_count": 10,
   "id": "236c7067-0aa6-45ad-bb9d-427e996dbeb6",
   "metadata": {},
   "outputs": [
    {
     "name": "stdout",
     "output_type": "stream",
     "text": [
      "Error: Module not found\n"
     ]
    }
   ],
   "source": [
    "try:\n",
    "    import non_existing_module\n",
    "except ModuleNotFoundError:\n",
    "    print(\"Error: Module not found\")\n"
   ]
  },
  {
   "cell_type": "code",
   "execution_count": null,
   "id": "d1f61801-060c-4419-a4eb-44ca61ea8f6c",
   "metadata": {},
   "outputs": [],
   "source": [
    "In this example, we catch the more specific ModuleNotFoundError exception instead of the more general ImportError exception.\n",
    "This provides a more informative error message that specifically states that the module was not found.\n",
    "\n",
    "It is recommended to use ModuleNotFoundError instead of ImportError when you want to provide a more specific error message for missing modules in\n",
    "your code. However, keep in mind that ModuleNotFoundError is only available in Python 3.6 and later versions.\n",
    "In earlier versions of Python, ImportError should be used to handle missing modules."
   ]
  },
  {
   "cell_type": "code",
   "execution_count": null,
   "id": "031f9df8-a447-487d-84bc-5079966d2726",
   "metadata": {},
   "outputs": [],
   "source": [
    "Q6. List down some best practices for exception handling in python."
   ]
  },
  {
   "cell_type": "code",
   "execution_count": null,
   "id": "c1a78449-d4a8-4cf8-be99-ee626cc54987",
   "metadata": {},
   "outputs": [],
   "source": [
    "Exception handling is an important aspect of writing robust and maintainable code in Python. Here are some best practices to keep in mind when \n",
    "handling exceptions in Python:\n",
    "\n",
    "1. Catch only the exceptions that you can handle:  When using a try/except block, make sure that you only catch the specific exceptions that\n",
    "    you can handle. Catching all exceptions using a broad exception like Exception or BaseException can make your code harder to debug and can mask\n",
    "    errors that you should be aware of.\n",
    "\n",
    "2. Provide informative error messages:  When raising or catching exceptions, provide informative error messages that help users understand what went \n",
    "   wrong and how to fix it. The error message should be clear, concise, and relevant.\n",
    "\n",
    "3. Use the finally block:  Use the finally block to ensure that cleanup code is executed, regardless of whether an exception is raised or not. \n",
    "   This is particularly important when working with files, sockets, or other resources that need to be closed or released when the program is \n",
    "    done with them.\n",
    "\n",
    "4.Don't catch exceptions silently: Never catch an exception silently without doing anything about it. This can make it hard to detect and debug \n",
    "  errors, and can lead to unexpected behavior in your code. Always log or print the error message to help diagnose the problem.\n",
    "\n",
    "5.Keep the try block short and focused: Keep the code in the try block as short and focused as possible, and only include the code that is likely \n",
    "  to raise an exception. This can help make your code more readable and easier to maintain.\n",
    "\n",
    "6. Use context managers: Use context managers (i.e., the with statement) when working with resources that need to be closed or released.\n",
    "   Context managers ensure that the resource is properly cleaned up, even if an exception is raised.\n",
    "\n",
    "7. Use exception chaining: When catching an exception, consider re-raising the exception with additional information about the context of the error.\n",
    "   This is called exception chaining and can be done using the raise ... from ... syntax.\n",
    "\n",
    "8. Avoid using bare except: Avoid using a bare except block as it can catch all exceptions, including those that you don't intend to catch. \n",
    "   Use specific exceptions instead, or use except Exception as e to catch all exceptions and inspect the exception object to determine how to handle it.\n",
    "\n",
    "By following these best practices, you can write more robust, maintainable, and error-resistant code in Python.\n"
   ]
  }
 ],
 "metadata": {
  "kernelspec": {
   "display_name": "Python 3 (ipykernel)",
   "language": "python",
   "name": "python3"
  },
  "language_info": {
   "codemirror_mode": {
    "name": "ipython",
    "version": 3
   },
   "file_extension": ".py",
   "mimetype": "text/x-python",
   "name": "python",
   "nbconvert_exporter": "python",
   "pygments_lexer": "ipython3",
   "version": "3.10.8"
  }
 },
 "nbformat": 4,
 "nbformat_minor": 5
}
